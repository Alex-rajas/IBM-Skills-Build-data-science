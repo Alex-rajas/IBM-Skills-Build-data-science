{
 "cells": [
  {
   "cell_type": "markdown",
   "id": "118d74c7-1fb4-4dd9-92fd-0bef018dce6b",
   "metadata": {
    "tags": []
   },
   "source": [
    "# Data Science Tools and Ecosystem\n"
   ]
  },
  {
   "cell_type": "markdown",
   "id": "cc3ffb2d-0a36-496f-a9f3-090534705159",
   "metadata": {},
   "source": [
    "In this notebook, Data Science Tools and Ecosystem are summarized."
   ]
  },
  {
   "cell_type": "markdown",
   "id": "e0dbe79d-3571-4c36-9ae1-618fd0b6de9a",
   "metadata": {},
   "source": [
    "**Objectives:**\n",
    "- List popular languages for Data Science\n",
    "- List commonly used libraries of Data Science\n",
    "- List some Data Science tools"
   ]
  },
  {
   "cell_type": "markdown",
   "id": "f6b529b7-8ff1-42c9-ba29-9093cbe59561",
   "metadata": {},
   "source": [
    "Some of the popular languages that Data Scientists use are:\n",
    "\n",
    "1. Python\n",
    "2. R\n",
    "3. SQL\n",
    "4. Julia\n",
    "5. Scala"
   ]
  },
  {
   "cell_type": "markdown",
   "id": "24e220eb-5bd9-4943-9fdd-ef69f64fb3e0",
   "metadata": {},
   "source": [
    "Some of the commonly used libraries used by Data Scientists include:\n",
    "\n",
    "1. Numpyh\n",
    "2. Panda\n",
    "3. Plotly"
   ]
  },
  {
   "cell_type": "markdown",
   "id": "05cf3837-d949-4c38-a631-4cb11b4e532d",
   "metadata": {
    "tags": []
   },
   "source": [
    "| DataScienceTools | \n",
    "| -----------------|\n",
    "|Jupyter Notebook|\n",
    "|RStudio|\n",
    "|Spyder|\n",
    "\n"
   ]
  },
  {
   "cell_type": "markdown",
   "id": "95bd47bf-2793-4be4-ad5c-3feb240213ad",
   "metadata": {},
   "source": [
    "### Below are a few examples of evaluating arithmetic expressions in Python"
   ]
  },
  {
   "cell_type": "code",
   "execution_count": 3,
   "id": "42f91416-9d2b-4d1a-92ee-59212c074e91",
   "metadata": {
    "tags": []
   },
   "outputs": [
    {
     "data": {
      "text/plain": [
       "17"
      ]
     },
     "execution_count": 3,
     "metadata": {},
     "output_type": "execute_result"
    }
   ],
   "source": [
    "#This a simple arithmetic expression to mutiply then add integers\n",
    "(3*4)+5"
   ]
  },
  {
   "cell_type": "code",
   "execution_count": 4,
   "id": "c171a58a-0fc1-4c78-bc6d-8b2b1bad1cc9",
   "metadata": {
    "tags": []
   },
   "outputs": [
    {
     "data": {
      "text/plain": [
       "3.3333333333333335"
      ]
     },
     "execution_count": 4,
     "metadata": {},
     "output_type": "execute_result"
    }
   ],
   "source": [
    "#This will convert 200 minutes to hours by diving by 60\n",
    "200/60\n"
   ]
  },
  {
   "cell_type": "markdown",
   "id": "ddfa88e3-d491-4b20-9a8e-1ff083657c02",
   "metadata": {},
   "source": [
    "## Author\n",
    "Alejandro Rajado Martín"
   ]
  },
  {
   "cell_type": "code",
   "execution_count": null,
   "id": "194b8d96-f83c-4339-86e5-3b1009e02c63",
   "metadata": {},
   "outputs": [],
   "source": []
  }
 ],
 "metadata": {
  "kernelspec": {
   "display_name": "Python",
   "language": "python",
   "name": "conda-env-python-py"
  },
  "language_info": {
   "codemirror_mode": {
    "name": "ipython",
    "version": 3
   },
   "file_extension": ".py",
   "mimetype": "text/x-python",
   "name": "python",
   "nbconvert_exporter": "python",
   "pygments_lexer": "ipython3",
   "version": "3.7.12"
  }
 },
 "nbformat": 4,
 "nbformat_minor": 5
}
